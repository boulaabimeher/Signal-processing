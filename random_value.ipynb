{
  "cells": [
    {
      "cell_type": "markdown",
      "metadata": {
        "id": "uWW8MXYebBgX"
      },
      "source": [
        "## ADD random value by 0.1 and export them to new .xlsx files ✅"
      ]
    },
    {
      "cell_type": "code",
      "execution_count": null,
      "metadata": {
        "id": "otw-TzEhbJrO"
      },
      "outputs": [],
      "source": [
        "# List of filenames for the input Excel files\n",
        "input_files = [\"Fault1_extrc.xlsx\", \"Fault2_extrc.xlsx\", \"Fault3_extrc.xlsx\", \"Fault4_extrc.xlsx\", \"Fault5_extrc.xlsx\"]\n",
        "\n",
        "# Iterate over each input file\n",
        "for file in input_files:\n",
        "    # Load the Excel file into a pandas DataFrame\n",
        "    df = pd.read_excel(file)\n",
        "\n",
        "    # Iterate over each column\n",
        "    for column in df.columns:\n",
        "        # Skip the first row (header row)\n",
        "        for index in range(1, len(df)):\n",
        "            # Add a random value of 0.1 to the cell\n",
        "            df.loc[index, column] += random.uniform(0, 0.1)\n",
        "\n",
        "    # Create a new filename for the output Excel file\n",
        "    output_file = file.replace(\".xlsx\", \"_updated.xlsx\")\n",
        "\n",
        "    # Save the updated DataFrame to a new Excel file\n",
        "    df.to_excel(output_file, index=False)"
      ]
    }
  ],
  "metadata": {
    "colab": {
      "collapsed_sections": [
        "cbIJu0reIR24",
        "3h0Fg8lHhdXd",
        "IHvr_kjncdeP",
        "-EoZBsy8JMpp",
        "xLgrTxeKpQmS",
        "TRIOhoeVZwXR",
        "uWW8MXYebBgX",
        "Xol7MXs7m_jb"
      ],
      "provenance": []
    },
    "kernelspec": {
      "display_name": "Python 3",
      "name": "python3"
    },
    "language_info": {
      "name": "python"
    }
  },
  "nbformat": 4,
  "nbformat_minor": 0
}
