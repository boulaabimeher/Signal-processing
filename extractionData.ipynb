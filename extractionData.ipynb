{
 "cells": [
  {
   "cell_type": "markdown",
   "metadata": {},
   "source": [
    "Provided by MeherBOULAABI"
   ]
  },
  {
   "cell_type": "code",
   "execution_count": null,
   "metadata": {},
   "outputs": [],
   "source": [
    "import pandas as pd"
   ]
  },
  {
   "cell_type": "code",
   "execution_count": null,
   "metadata": {},
   "outputs": [],
   "source": [
    "from google.colab import drive\n",
    "drive.mount('/content/drive')"
   ]
  },
  {
   "cell_type": "code",
   "execution_count": null,
   "metadata": {},
   "outputs": [],
   "source": [
    "import pandas as pd\n",
    "# Load the Excel file into a pandas DataFrame\n",
    "df = pd.read_excel('/content/drive/MyDrive/test_code/Fault1.xlsx')\n",
    "df1 = pd.read_excel('/content/drive/MyDrive/test_code/Fault2.xlsx')\n",
    "df2 = pd.read_excel('/content/drive/MyDrive/test_code/Fault3.xlsx')\n",
    "df3 = pd.read_excel('/content/drive/MyDrive/test_code/Fault4.xlsx')\n",
    "df4 = pd.read_excel('/content/drive/MyDrive/test_code/Fault5.xlsx')"
   ]
  },
  {
   "cell_type": "code",
   "execution_count": null,
   "metadata": {},
   "outputs": [],
   "source": [
    "# Extract rows Test\n",
    "new_df = df.iloc[74643:75643]\n",
    "new_df1 = df1.iloc[77097: 78097]\n",
    "new_df2 = df2.iloc[57390: 58390]\n",
    "new_df3 = df3.iloc[1: 1001]\n",
    "new_df4 = df4.iloc[63861: 64861]"
   ]
  },
  {
   "cell_type": "code",
   "execution_count": null,
   "metadata": {},
   "outputs": [],
   "source": [
    "# Save the extracted rows to a new Excel file\n",
    "new_df.to_excel('/content/drive/MyDrive/code_extraction/Fault1_extrc.xlsx', index=False)\n",
    "new_df1.to_excel('/content/drive/MyDrive/code_extraction/Fault2_extrc.xlsx', index=False)\n",
    "new_df2.to_excel('/content/drive/MyDrive/code_extraction/Fault3_extrc.xlsx', index=False)\n",
    "new_df3.to_excel('/content/drive/MyDrive/code_extraction/Fault4_extrc.xlsx', index=False)\n",
    "new_df4.to_excel('/content/drive/MyDrive/code_extraction/Fault5_extrc.xlsx', index=False)"
   ]
  }
 ],
 "metadata": {
  "language_info": {
   "name": "python"
  }
 },
 "nbformat": 4,
 "nbformat_minor": 2
}
